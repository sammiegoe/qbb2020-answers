{
  "nbformat": 4, 
  "cells": [
    {
      "source": "## Learning objectives\n\n\n1. Understanding *print* syntax\n\n2. Using basic Python data types and assignment\n\n3. The basics of lists\n\n4. Understanding mutability\n\n5. If / else statemens and for loops\n\n6. Interacting with files in Python\n\n---\n\n\n\n\n## Printing with Python\n\n\n", 
      "cell_type": "markdown", 
      "attachments": {}, 
      "metadata": {}
    }, 
    {
      "execution_count": 0, 
      "cell_type": "code", 
      "source": "", 
      "outputs": [], 
      "metadata": {
        "scrolled": true, 
        "collapsed": false, 
        "format": "row"
      }
    }, 
    {
      "source": "### Excercise:\n\n\nNow, given the following variables, try printing the 'do wa ditty ditty dum ditty do' with the format method. Can you do it reusing arguments?\n\n\n", 
      "cell_type": "markdown", 
      "attachments": {}, 
      "metadata": {}
    }, 
    {
      "execution_count": 0, 
      "cell_type": "code", 
      "source": "do = 'do'\nwa = 'wa'\nditty = 'ditty'\ndum = 'dum'", 
      "outputs": [], 
      "metadata": {
        "scrolled": true, 
        "collapsed": false, 
        "format": "row"
      }
    }, 
    {
      "source": "Your answer:\n\n\n", 
      "cell_type": "markdown", 
      "attachments": {}, 
      "metadata": {}
    }, 
    {
      "execution_count": 0, 
      "cell_type": "code", 
      "source": "", 
      "outputs": [], 
      "metadata": {
        "scrolled": true, 
        "collapsed": false, 
        "format": "row"
      }
    }, 
    {
      "source": "## Looking at basic Python data types\n\n\n", 
      "cell_type": "markdown", 
      "attachments": {}, 
      "metadata": {}
    }, 
    {
      "execution_count": 0, 
      "cell_type": "code", 
      "source": "", 
      "outputs": [], 
      "metadata": {
        "scrolled": true, 
        "collapsed": false, 
        "format": "row"
      }
    }, 
    {
      "source": "### Excercise:\n\n\nWhat happens we you combine different variable types? What type do you get? Use the function ```type``` to see.\n\n\n", 
      "cell_type": "markdown", 
      "attachments": {}, 
      "metadata": {}
    }, 
    {
      "execution_count": 0, 
      "cell_type": "code", 
      "source": "# e.g. print(type(1+1))\n", 
      "outputs": [], 
      "metadata": {
        "scrolled": true, 
        "collapsed": false, 
        "format": "row"
      }
    }, 
    {
      "source": "## Altering variables in place\n\n\n", 
      "cell_type": "markdown", 
      "attachments": {}, 
      "metadata": {}
    }, 
    {
      "execution_count": 0, 
      "cell_type": "code", 
      "source": "", 
      "outputs": [], 
      "metadata": {
        "scrolled": true, 
        "collapsed": false, 
        "format": "row"
      }
    }, 
    {
      "source": "There are a variety of operators that can use assignment operations:\n\n\n- +=  Addition\n- -=  Subtraction\n- *=  Multiplication\n- /=  Division\n- **=  Raising the variable to the power of a value\n- %=  Computes the modulus of the variable and a value\n- //=  Computes floor (integer) division\n\n\n### Excercise:\n\n\nCan you perfom the following equation with one line per operation using only assignment operators?\n\n\n", 
      "cell_type": "markdown", 
      "attachments": {}, 
      "metadata": {}
    }, 
    {
      "execution_count": 0, 
      "cell_type": "code", 
      "source": "# ((5 + 10) / 3) ** 2\na = 0\n", 
      "outputs": [], 
      "metadata": {
        "scrolled": true, 
        "collapsed": false, 
        "format": "row"
      }
    }, 
    {
      "source": "## Lists\n\n\n", 
      "cell_type": "markdown", 
      "attachments": {}, 
      "metadata": {}
    }, 
    {
      "execution_count": 0, 
      "cell_type": "code", 
      "source": "", 
      "outputs": [], 
      "metadata": {
        "scrolled": true, 
        "collapsed": false, 
        "format": "row"
      }
    }, 
    {
      "source": "### Excercise:\n\n\nGiven the following grocery list, can you make items into the appropriate fruits, vegetables, and meats lists? Can you do this using ```pop```? Indexing and list addition?\n\n\n", 
      "cell_type": "markdown", 
      "attachments": {}, 
      "metadata": {}
    }, 
    {
      "execution_count": 0, 
      "cell_type": "code", 
      "source": "groceries = ['apple', 'pear', 'brocolli', 'lettuce', 'watermelon', 'turkey', 'beef', 'carrots']\nfruits = []\nvegetables = []\nmeats = []\n\n## Your code", 
      "outputs": [], 
      "metadata": {
        "scrolled": true, 
        "collapsed": false, 
        "format": "row"
      }
    }, 
    {
      "source": "## Mutability\n\n\n![](./fig/mutability.png)\n\n\n", 
      "cell_type": "markdown", 
      "attachments": {}, 
      "metadata": {}
    }, 
    {
      "execution_count": 0, 
      "cell_type": "code", 
      "source": "", 
      "outputs": [], 
      "metadata": {
        "scrolled": true, 
        "collapsed": false, 
        "format": "row"
      }
    }, 
    {
      "source": "## Conditional statements\n\n\n", 
      "cell_type": "markdown", 
      "attachments": {}, 
      "metadata": {}
    }, 
    {
      "execution_count": 0, 
      "cell_type": "code", 
      "source": "", 
      "outputs": [], 
      "metadata": {
        "scrolled": true, 
        "collapsed": false, 
        "format": "row"
      }
    }, 
    {
      "source": "### Exercise:\n\n\nCan you create a conditional statement that prints 'true' for even numbers between 2 and 20, inclusive?\n\n\n", 
      "cell_type": "markdown", 
      "attachments": {}, 
      "metadata": {}
    }, 
    {
      "execution_count": 0, 
      "cell_type": "code", 
      "source": "# Hint: you can use integer division for an easy odd/even test\n", 
      "outputs": [], 
      "metadata": {
        "scrolled": true, 
        "collapsed": false, 
        "format": "row"
      }
    }, 
    {
      "source": "## For loops\n\n\n", 
      "cell_type": "markdown", 
      "attachments": {}, 
      "metadata": {}
    }, 
    {
      "execution_count": 0, 
      "cell_type": "code", 
      "source": "", 
      "outputs": [], 
      "metadata": {
        "scrolled": true, 
        "collapsed": false, 
        "format": "row"
      }
    }, 
    {
      "source": "### Exercise:\n\n\nCan you write a for loop that prints numbers from 9 to 0?\n\n\n", 
      "cell_type": "markdown", 
      "attachments": {}, 
      "metadata": {}
    }, 
    {
      "execution_count": 0, 
      "cell_type": "code", 
      "source": "", 
      "outputs": [], 
      "metadata": {
        "scrolled": true, 
        "collapsed": false, 
        "format": "row"
      }
    }, 
    {
      "source": "## While loops\n\n\n", 
      "cell_type": "markdown", 
      "attachments": {}, 
      "metadata": {}
    }, 
    {
      "execution_count": 0, 
      "cell_type": "code", 
      "source": "", 
      "outputs": [], 
      "metadata": {
        "scrolled": true, 
        "collapsed": false, 
        "format": "row"
      }
    }, 
    {
      "source": "### Exercise\n\n\nAdd conditional statements into this code using `continue` and `break` to only print out numbers 10-20.\n\n\n", 
      "cell_type": "markdown", 
      "attachments": {}, 
      "metadata": {}
    }, 
    {
      "execution_count": 0, 
      "cell_type": "code", 
      "source": "i = 0\nwhile i < 100:\n    print(i)\n    i += 1", 
      "outputs": [], 
      "metadata": {
        "scrolled": true, 
        "collapsed": false, 
        "format": "row"
      }
    }, 
    {
      "source": "## Reading files\n\n\n", 
      "cell_type": "markdown", 
      "attachments": {}, 
      "metadata": {}
    }, 
    {
      "execution_count": 0, 
      "cell_type": "code", 
      "source": "", 
      "outputs": [], 
      "metadata": {
        "scrolled": true, 
        "collapsed": false, 
        "format": "row"
      }
    }, 
    {
      "source": "### Exercise:\n\n\nCan you write code to open the file you just created and print its contents?\n\n\n", 
      "cell_type": "markdown", 
      "attachments": {}, 
      "metadata": {}
    }, 
    {
      "execution_count": 0, 
      "cell_type": "code", 
      "source": "", 
      "outputs": [], 
      "metadata": {
        "scrolled": true, 
        "collapsed": false, 
        "format": "row"
      }
    }, 
    {
      "source": "## A script to analyze a file\n\n\n", 
      "cell_type": "markdown", 
      "attachments": {}, 
      "metadata": {}
    }, 
    {
      "execution_count": 0, 
      "cell_type": "code", 
      "source": "", 
      "outputs": [], 
      "metadata": {
        "scrolled": true, 
        "collapsed": false, 
        "format": "row"
      }
    }, 
    {
      "source": "### Exercise:\n\n\nCan you find the maximum number of exons in data/t_data.ctab?\n\n\n", 
      "cell_type": "markdown", 
      "attachments": {}, 
      "metadata": {}
    }, 
    {
      "execution_count": 0, 
      "cell_type": "code", 
      "source": "", 
      "outputs": [], 
      "metadata": {
        "scrolled": true, 
        "collapsed": false, 
        "format": "row"
      }
    }
  ], 
  "metadata": {
    "kernelspec": {
      "display_name": "Python 3", 
      "name": "python3", 
      "language": "python"
    }, 
    "toc": {
      "nav_menu": {}, 
      "toc_window_display": true, 
      "base_numbering": 1, 
      "title_sidebar": "Contents", 
      "skip_h1_title": false, 
      "toc_postion": {}, 
      "toc_section_display": true, 
      "title_cell": "Table of Contents", 
      "number_sections": false, 
      "sideBar": true, 
      "toc_cell": false
    }, 
    "language_info": {
      "mimetype": "text/x-python", 
      "nbconvert_exporter": "python", 
      "name": "python", 
      "file_extension": ".py", 
      "version": "3.7.6", 
      "pygments_lexer": "ipython3", 
      "codemirror_mode": {
        "version": 3, 
        "name": "ipython"
      }
    }
  }, 
  "nbformat_minor": 4
}