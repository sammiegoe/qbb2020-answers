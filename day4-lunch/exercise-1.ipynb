{
 "cells": [
  {
   "cell_type": "code",
   "execution_count": 132,
   "metadata": {
    "scrolled": true
   },
   "outputs": [],
   "source": [
    "f = open('/Users/cmdb/data/genomes/BDGP6.Ensembl.81.gtf')\n",
    "\n",
    "stored_data = []\n",
    "\n",
    "for line in f:\n",
    "    if '3R'+'\\t' in line:\n",
    "        if 'protein_coding' in line:\n",
    "            line_split = line.split()\n",
    "            if line_split[2] == 'gene':\n",
    "                stored_data.append([int(line_split[3]),int(line_split[4]),(line_split[13])[1:-2]])\n",
    "\n",
    "#print(stored_data)"
   ]
  },
  {
   "cell_type": "code",
   "execution_count": 184,
   "metadata": {},
   "outputs": [
    {
     "name": "stdout",
     "output_type": "stream",
     "text": [
      "The while loop ran 0 times\n",
      "The while loop ran 1 times\n",
      "The while loop ran 2 times\n",
      "The while loop ran 3 times\n",
      "The while loop ran 4 times\n",
      "The while loop ran 5 times\n",
      "The while loop ran 6 times\n",
      "The while loop ran 7 times\n",
      "The while loop ran 8 times\n",
      "The while loop ran 9 times\n",
      "The while loop ran 10 times\n",
      "The while loop ran 11 times\n",
      "The while loop ran 12 times\n",
      "[21378977, 21381970, 'tin']\n",
      "Distance to gene 27 bp\n"
     ]
    }
   ],
   "source": [
    "val = 21378950\n",
    "\n",
    "high = len(stored_data) - 1\n",
    "low = 0\n",
    "mid = len(stored_data)//2\n",
    "\n",
    "counter = 0\n",
    "\n",
    "while True:\n",
    "    print('The while loop ran {} times'.format(counter))\n",
    "    if high == low + 1:\n",
    "        low_value = abs(stored_data[low][1] - val)\n",
    "        high_value = abs(stored_data[high][0] - val)\n",
    "        if high_value < low_value:\n",
    "            print(stored_data[high])\n",
    "            print('Distance to gene', high_value,'bp')\n",
    "        if low_value < high_value:\n",
    "            print(stored_data[low])\n",
    "            print('Distance to gene', low_value, 'bp')\n",
    "        #is it closer to start of high or end of low\n",
    "        break\n",
    "    elif val < stored_data[mid][0]: #if the position is less than the start of gene\n",
    "        high = mid \n",
    "        mid = (high + low)//2 \n",
    "    elif val > stored_data[mid][1]: #if the position is greater than end of gene\n",
    "        low = mid\n",
    "        mid = (high + low)//2\n",
    "    else:\n",
    "        #found the gene\n",
    "        print(stored_data[mid])\n",
    "        break\n",
    "    counter += 1"
   ]
  },
  {
   "cell_type": "markdown",
   "metadata": {},
   "source": [
    "### Notes"
   ]
  },
  {
   "cell_type": "markdown",
   "metadata": {},
   "source": [
    "1. Open file \n",
    "1. For line in file:\n",
    "    1. Skip the first 5 lines (header lines)\n",
    "    1. Split the line into a list\n",
    "    1. 3R chrom, start, end, gene_name, feature_type, gene_biotype (protein coding)\n",
    "    1. Only store protein-coding genes\n",
    "    \n",
    "stored_data = [(gene_name, start, end), (gene_name, start, end),\n",
    "(gene_name, start, end), (gene_name, start, end)\n",
    "\n",
    "search_pos = 21378950\n",
    "\n",
    "lo = 0\n",
    "high = len(list) - 1\n",
    "mid = the middle index\n",
    "\n",
    "#once define the mid, index it in our data and compare \n",
    "\n",
    "while True:\n",
    "    if high == lo + 1: \n",
    "        #find distance to end of lo\n",
    "        #find distance to start of high\n",
    "        #compare, figure out which is closest\n",
    "        output gene_name\n",
    "        break\n",
    "    if search_pos < stored_data[mid][1]: #if search is less than start of gene in the middle\n",
    "        high = mid\n",
    "        mid = (high+lo)/2 #when indexing you need integers, not float\n",
    "\n",
    "    elif search_pos > stored_data[mid][2]:\n",
    "        lo = mid\n",
    "        mid = (high+lo)/2\n",
    "\n",
    "    else: \n",
    "        #found the gene\n",
    "        output gene_name\n",
    "        break #break while loop if you find the gene\n"
   ]
  }
 ],
 "metadata": {
  "kernelspec": {
   "display_name": "Python 3",
   "language": "python",
   "name": "python3"
  },
  "language_info": {
   "codemirror_mode": {
    "name": "ipython",
    "version": 3
   },
   "file_extension": ".py",
   "mimetype": "text/x-python",
   "name": "python",
   "nbconvert_exporter": "python",
   "pygments_lexer": "ipython3",
   "version": "3.6.10"
  }
 },
 "nbformat": 4,
 "nbformat_minor": 4
}
