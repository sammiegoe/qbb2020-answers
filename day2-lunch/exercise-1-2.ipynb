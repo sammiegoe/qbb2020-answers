{
 "cells": [
  {
   "cell_type": "markdown",
   "metadata": {},
   "source": [
    "### Exercise 1"
   ]
  },
  {
   "cell_type": "code",
   "execution_count": 59,
   "metadata": {},
   "outputs": [],
   "source": [
    "f = open('/Users/cmdb/qbb2020-answers/day2-lunch/fly.txt','r')"
   ]
  },
  {
   "cell_type": "code",
   "execution_count": 60,
   "metadata": {},
   "outputs": [],
   "source": [
    "data = []\n",
    "for line in f:\n",
    "    if \"DROME\" in line and 'FBgn' in line.split()[-1]: #because some lines do not have FBgn, filter out by using this conditional\n",
    "        text = (line.split()[-2] + '\\t' + line.split()[-1]) #parse and separate by tab\n",
    "        data.append(text) #add to previously made list\n",
    "f.close()\n",
    "\n",
    "#print(data)\n",
    "\n",
    "f = open('IDs.txt','w') #write to file\n",
    "for line in data:\n",
    "    f.write(line + '\\n') #separate by new line\n",
    "f.close()"
   ]
  },
  {
   "cell_type": "markdown",
   "metadata": {},
   "source": [
    "### Exercise 2"
   ]
  },
  {
   "cell_type": "code",
   "execution_count": 9,
   "metadata": {},
   "outputs": [],
   "source": [
    "def ID_function(fname):\n",
    "    name = dict() #create dictionary\n",
    "    for line in open(fname):\n",
    "        line = line.rstrip().split('\\t')\n",
    "        upid = line[0] #value\n",
    "        fbid = line[1] #key\n",
    "        name.setdefault(fbid,upid)\n",
    "    return name"
   ]
  },
  {
   "cell_type": "code",
   "execution_count": 61,
   "metadata": {},
   "outputs": [],
   "source": [
    "mapping = ID_function('IDs.txt') #create dictionary from function"
   ]
  },
  {
   "cell_type": "code",
   "execution_count": 63,
   "metadata": {},
   "outputs": [],
   "source": [
    "ctab = open('/Users/cmdb/qbb2020-answers/day2-lunch/t_data.ctab')"
   ]
  },
  {
   "cell_type": "code",
   "execution_count": 62,
   "metadata": {},
   "outputs": [
    {
     "data": {
      "text/plain": [
       "'Q9VZX9'"
      ]
     },
     "execution_count": 62,
     "metadata": {},
     "output_type": "execute_result"
    }
   ],
   "source": [
    "mapping['FBgn0035371'] #test dictionary"
   ]
  },
  {
   "cell_type": "code",
   "execution_count": 64,
   "metadata": {
    "scrolled": true
   },
   "outputs": [
    {
     "name": "stdout",
     "output_type": "stream",
     "text": [
      "gene_id\n",
      "FBgn0085804\n",
      "FBgn0267431\n",
      "FBgn0039987\n",
      "FBgn0058182\n",
      "FBgn0267430\n"
     ]
    }
   ],
   "source": [
    "index = 0 #counter\n",
    "for line in ctab:\n",
    "    if index < 6: #testing for first 6 lines\n",
    "        #print(line)\n",
    "        index += 1\n",
    "        fields = line.rstrip().split('\\t')\n",
    "        print(fields[8])"
   ]
  },
  {
   "cell_type": "code",
   "execution_count": null,
   "metadata": {},
   "outputs": [],
   "source": [
    "#replace geneID with UID\n",
    "#third argument affects functionality of script - if you do not have a translation either\n",
    "#print nothing, or print and fill field with default character"
   ]
  },
  {
   "cell_type": "code",
   "execution_count": 128,
   "metadata": {},
   "outputs": [],
   "source": [
    "def translation(mapping_file, ctab):\n",
    "    mapping_file = open(mapping_file,'r')\n",
    "    ctab = open(ctab,'r')\n",
    "    final = open('exercise-part-2.txt','w') #text file that it will be written to\n",
    "    final.write('t_id'+'\\t'+'chr'+'\\t'+'strand'+'\\t'+'start'+'\\t'+'end'+'\\t'+'t_name'+'\\t'+'num_exons'+'\\t'+'length'+'\\t'+'UniProt_ID'+'\\t'+'gene_name'+'\\t'+'cov'+'\\t'+'FPKM'+'\\n')\n",
    "    \n",
    "    mapping_dict = {}\n",
    "    \n",
    "    for line in mapping_file:\n",
    "        line = line.rstrip().split('\\t')\n",
    "        upid = line[0] #value\n",
    "        fbid = line[1] #key\n",
    "        mapping_dict.setdefault(fbid, upid) #specify key and value\n",
    "    \n",
    "    index = 0\n",
    "    \n",
    "    for line in ctab:\n",
    "        if 'FBgn' in line:\n",
    "            if index < 100: #first 100 lines and only lookup if FBgn present\n",
    "                #print(line)\n",
    "                fields = line.split('\\t') #parses columns in ctab\n",
    "                fbid = fields[8] #defines FBgn as 8th index of ctab\n",
    "                \n",
    "                if fbid in mapping_dict: #looking up fbid in dictionary\n",
    "                    fields[8] = mapping_dict[fbid] #replace index 8 with value from dictionary\n",
    "                    final.write('\\t'.join(fields)) #write it \n",
    "                    index +=1 #add to counter\n",
    "                \n",
    "                else:\n",
    "                    final.write('')\n",
    "                    index +=0 #do not add to counter since we are not even giving it a line\n",
    "\n",
    "    ctab.close()\n",
    "    final.close()"
   ]
  },
  {
   "cell_type": "code",
   "execution_count": 129,
   "metadata": {},
   "outputs": [],
   "source": [
    "translation('/Users/cmdb/qbb2020-answers/day2-lunch/IDs.txt','/Users/cmdb/qbb2020-answers/day2-lunch/t_data.ctab')"
   ]
  },
  {
   "cell_type": "code",
   "execution_count": null,
   "metadata": {},
   "outputs": [],
   "source": []
  }
 ],
 "metadata": {
  "kernelspec": {
   "display_name": "Python 3",
   "language": "python",
   "name": "python3"
  },
  "language_info": {
   "codemirror_mode": {
    "name": "ipython",
    "version": 3
   },
   "file_extension": ".py",
   "mimetype": "text/x-python",
   "name": "python",
   "nbconvert_exporter": "python",
   "pygments_lexer": "ipython3",
   "version": "3.6.10"
  }
 },
 "nbformat": 4,
 "nbformat_minor": 4
}
