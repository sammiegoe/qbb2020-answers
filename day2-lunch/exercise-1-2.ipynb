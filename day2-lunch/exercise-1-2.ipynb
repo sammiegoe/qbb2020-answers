{
 "cells": [
  {
   "cell_type": "markdown",
   "metadata": {},
   "source": [
    "### Exercise 1"
   ]
  },
  {
   "cell_type": "code",
   "execution_count": 59,
   "metadata": {},
   "outputs": [],
   "source": [
    "f = open('/Users/cmdb/qbb2020-answers/day2-lunch/fly.txt','r')"
   ]
  },
  {
   "cell_type": "code",
   "execution_count": 6,
   "metadata": {},
   "outputs": [],
   "source": [
    "f = open('/Users/cmdb/qbb2020-answers/day2-lunch/fly.txt','r')\n",
    "data = []\n",
    "for line in f:\n",
    "    if \"DROME\" in line and 'FBgn' in line.split()[-1]: #because some lines do not have FBgn, filter out by using this conditional\n",
    "        text = (line.split()[-2] + '\\t' + line.split()[-1]) #parse and separate by tab\n",
    "        data.append(text) #add to previously made list\n",
    "f.close()\n",
    "\n",
    "#print(data)\n",
    "\n",
    "f = open('IDs.txt','w') #write to file\n",
    "for line in data:\n",
    "    f.write(line + '\\n') #separate by new line\n",
    "f.close()"
   ]
  },
  {
   "cell_type": "markdown",
   "metadata": {},
   "source": [
    "### Exercise 2"
   ]
  },
  {
   "cell_type": "markdown",
   "metadata": {},
   "source": [
    "Want to create dictionary using the mapping file we created\n",
    "Then use dictionary to replace gene_id in ctab with UP ID in dictionary\n",
    "The two overlap with FB ID "
   ]
  },
  {
   "cell_type": "code",
   "execution_count": 90,
   "metadata": {},
   "outputs": [],
   "source": [
    "def translate(mapping_file, ctab_file, none=('')):\n",
    "\n",
    "    #load files\n",
    "    file_mapping = open(mapping_file)\n",
    "    file_ctab = open(ctab_file)\n",
    "    file_output = open('/Users/cmdb/qbb2020-answers/day2-lunch/output.txt','w')\n",
    "    file_output.write('t_id'+'\\t'+'chr'+'\\t'+'strand'+'\\t'+'start'+'\\t'+'end'+'\\t'+'t_name'+'\\t'+'num_exons'+'\\t'+'length'+'\\t'+'UniProt_ID'+'\\t'+'gene_name'+'\\t'+'cov'+'\\t'+'FPKM'+'\\n')\n",
    "    #write header in output file separating by tabs\n",
    "    #header = ('t_id'+'\\t'+'chr'+'\\t'+'strand'+'\\t'+'start'+'\\t'+'end'+'\\t'+'t_name'+'\\t'+'num_exons'+'\\t'+'length'+'\\t'+'UniProt_ID'+'\\t'+'gene_name'+'\\t'+'cov'+'\\t'+'FPKM'+'\\n')\n",
    "    \n",
    "    ID_dic = {} #initialize dictionary\n",
    "    #print(ID_dic) should be empty\n",
    "    for line in (file_mapping):\n",
    "        field = line.split() #split into list\n",
    "        #print(field)\n",
    "        upid = field[0]\n",
    "        fbid = field[1]\n",
    "        #print(fbid)\n",
    "        ID_dic[fbid] = upid\n",
    "        #print(ID_dic)\n",
    "    \n",
    "\n",
    "    #initialize index\n",
    "    index = 0\n",
    "\n",
    "    #parse ctab file\n",
    "    for line in file_ctab:\n",
    "        if 'FBgn' in line: #skip header\n",
    "            if index < 100: #only continue if it has output less than 100 lines\n",
    "                fields = line.split('\\t')\n",
    "                #print(fields) #to test parsing\n",
    "                fbid = fields[8] #gene_id field\n",
    "                #print(fbid) to see if fbid is right\n",
    "            \n",
    "                if fbid in ID_dic: #lookup fbid in the ctab to match in dict\n",
    "                    fields[8] = ID_dic[fbid] \n",
    "                    #looks up UniProtID using FBID and replaces field 8 with value (UniProtID)\n",
    "                    file_output.write('\\t'.join(fields)) #write to output file, separating fields by tab\n",
    "                    index += 1 #move counter up\n",
    "            \n",
    "                else:\n",
    "                    file_output.write(none)\n",
    "                    index += 0 #do not alter counter since nothing is written\n",
    "\n",
    "file_ctab.close()\n",
    "file_mapping.close()\n",
    "\n",
    "translate('/Users/cmdb/qbb2020-answers/day2-lunch/IDs.txt', '/Users/cmdb/qbb2020-answers/day2-lunch/t_data.ctab')"
   ]
  },
  {
   "cell_type": "markdown",
   "metadata": {},
   "source": [
    "# Notes"
   ]
  },
  {
   "cell_type": "markdown",
   "metadata": {},
   "source": [
    "Making dictionary:"
   ]
  },
  {
   "cell_type": "code",
   "execution_count": 16,
   "metadata": {},
   "outputs": [],
   "source": [
    "file_ctab = open('/Users/cmdb/qbb2020-answers/day2-lunch/t_data.ctab','r')\n",
    "file_mapping = open('/Users/cmdb/qbb2020-answers/day2-lunch/IDs.txt','r')\n",
    "#file_mapping has the UP ID and FB ID\n",
    "\n",
    "#make dictionary\n",
    "\n",
    "ID_dic = {} #initialize dictionary\n",
    "#print(ID_dic) should be empty\n",
    "for line in (file_mapping):\n",
    "    field = line.split() #split into list\n",
    "    #print(field)\n",
    "    upid = field[0]\n",
    "    fbid = field[1]\n",
    "    #print(fbid)\n",
    "    ID_dic[fbid] = upid\n",
    "#print(ID_dic)"
   ]
  },
  {
   "cell_type": "markdown",
   "metadata": {},
   "source": [
    "Making find and replace argument:"
   ]
  },
  {
   "cell_type": "code",
   "execution_count": 40,
   "metadata": {},
   "outputs": [],
   "source": [
    "#load files\n",
    "file_ctab = open('/Users/cmdb/qbb2020-answers/day2-lunch/t_data.ctab','r')\n",
    "file_output = open('/Users/cmdb/qbb2020-answers/day2-lunch/output.txt','w')\n",
    "\n",
    "#initialize index\n",
    "index = 0\n",
    "\n",
    "#parse ctab file\n",
    "for line in file_ctab:\n",
    "    if 'FBgn' in line:\n",
    "        if index < 100: #only continue if it has output less than 100 lines\n",
    "            fields = line.split('\\t')\n",
    "            #print(fields) #to test parsing\n",
    "            fbid = fields[8]\n",
    "            #print(fbid) to see if fbid is right\n",
    "            \n",
    "            if fbid in ID_dic: #lookup fbid in the ctab to match in dict\n",
    "                fields[8] = ID_dic[fbid] #replaces this column with fbid value (i.e. up ID)\n",
    "                file_output.write('\\t'.join(fields))\n",
    "                index += 1\n",
    "            \n",
    "            else:\n",
    "                file_output.write('')\n",
    "                index += 0 \n",
    "\n",
    "file_ctab.close()\n",
    "file_mapping.close()\n"
   ]
  },
  {
   "cell_type": "code",
   "execution_count": 61,
   "metadata": {},
   "outputs": [
    {
     "data": {
      "text/plain": [
       "[0, 1, 2, 3, 4, 5]"
      ]
     },
     "execution_count": 61,
     "metadata": {},
     "output_type": "execute_result"
    }
   ],
   "source": [
    "my_list = [0,1,2,3,4,'apple']\n",
    "\n",
    "#goal: make the list [0,1,2,3,4,5]\n",
    "\n",
    "my_list[5] = 5\n",
    "my_list"
   ]
  },
  {
   "cell_type": "code",
   "execution_count": 64,
   "metadata": {
    "scrolled": true
   },
   "outputs": [
    {
     "name": "stdout",
     "output_type": "stream",
     "text": [
      "gene_id\n",
      "FBgn0085804\n",
      "FBgn0267431\n",
      "FBgn0039987\n",
      "FBgn0058182\n",
      "FBgn0267430\n"
     ]
    }
   ],
   "source": [
    "index = 0 #counter\n",
    "for line in ctab:\n",
    "    if index < 6: #testing for first 6 lines\n",
    "        #print(line)\n",
    "        index += 1\n",
    "        fields = line.rstrip().split('\\t')\n",
    "        print(fields[8])"
   ]
  },
  {
   "cell_type": "code",
   "execution_count": null,
   "metadata": {},
   "outputs": [],
   "source": [
    "#replace geneID with UID\n",
    "#third argument affects functionality of script - if you do not have a translation either\n",
    "#print nothing, or print and fill field with default character"
   ]
  }
 ],
 "metadata": {
  "kernelspec": {
   "display_name": "Python 3",
   "language": "python",
   "name": "python3"
  },
  "language_info": {
   "codemirror_mode": {
    "name": "ipython",
    "version": 3
   },
   "file_extension": ".py",
   "mimetype": "text/x-python",
   "name": "python",
   "nbconvert_exporter": "python",
   "pygments_lexer": "ipython3",
   "version": "3.6.10"
  }
 },
 "nbformat": 4,
 "nbformat_minor": 4
}
