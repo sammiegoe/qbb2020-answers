{
 "cells": [
  {
   "cell_type": "code",
   "execution_count": 211,
   "metadata": {},
   "outputs": [],
   "source": [
    "def FASTAReader(file):\n",
    "    # Get the first line, which should contain the sequence name\n",
    "    line = file.readline()\n",
    "\n",
    "    # Let's make sure the file looks like a FASTA file\n",
    "    assert line.startswith('>'), \"Not a FASTA file\"\n",
    "    \n",
    "    # Get the sequence name\n",
    "    seq_id = line[1:].rstrip('\\r\\n')\n",
    "\n",
    "    # create a list to contain the \n",
    "    sequence = []\n",
    "\n",
    "    # Get the next line\n",
    "    line = file.readline()\n",
    "\n",
    "    # Add a list to hold all of the sequences in\n",
    "    sequences = []\n",
    "\n",
    "    # Keep reading lines until we run out\n",
    "    while line:\n",
    "        # Check if we've reached a new sequence (in a multi-sequence file)\n",
    "        if line.startswith('>'):\n",
    "            # Add previous sequence to list\n",
    "            sequences.append((seq_id, ''.join(sequence)))\n",
    "            \n",
    "            # Record new sequence name and reset sequence\n",
    "            seq_id = line[1:].rstrip('\\r\\n')\n",
    "            sequence = []\n",
    "        else:\n",
    "            # Add next chunk of sequence\n",
    "            sequence.append(line.strip())\n",
    "        \n",
    "        # Get the next line\n",
    "        line = file.readline()\n",
    "    # Add the last sequence to sequences\n",
    "    sequences.append((seq_id, ''.join(sequence)))\n",
    "\n",
    "    return sequences"
   ]
  },
  {
   "cell_type": "code",
   "execution_count": 212,
   "metadata": {},
   "outputs": [],
   "source": [
    "mafft_output = FASTAReader(open('mafft_out.fa'))\n",
    "query_and_blast = FASTAReader(open('query_and_blast_out.fa'))\n",
    "# Query is in index zero\n",
    "query_align = mafft_output[0]\n",
    "query_nt = query_and_blast[0]"
   ]
  },
  {
   "cell_type": "code",
   "execution_count": 213,
   "metadata": {},
   "outputs": [
    {
     "data": {
      "text/plain": [
       "10293"
      ]
     },
     "execution_count": 213,
     "metadata": {},
     "output_type": "execute_result"
    }
   ],
   "source": [
    "len(query_nt[1])"
   ]
  },
  {
   "cell_type": "code",
   "execution_count": 214,
   "metadata": {},
   "outputs": [],
   "source": [
    "query_aa = query_align[1]\n",
    "#print(query_aa)"
   ]
  },
  {
   "cell_type": "code",
   "execution_count": 215,
   "metadata": {},
   "outputs": [],
   "source": [
    "# Check length of alignment sequences\n",
    "# for seq in query_and_blast:\n",
    "#     print(len(seq[1]))"
   ]
  },
  {
   "cell_type": "code",
   "execution_count": 216,
   "metadata": {
    "scrolled": true
   },
   "outputs": [
    {
     "name": "stdout",
     "output_type": "stream",
     "text": [
      "6121\n"
     ]
    }
   ],
   "source": [
    "print(len(query_align[1]))"
   ]
  },
  {
   "cell_type": "code",
   "execution_count": 292,
   "metadata": {},
   "outputs": [],
   "source": [
    "# Initialize empty list for query and initialize counter\n",
    "query_seqs = []\n",
    "counter = 0\n",
    "\n",
    "for line in query_align[1]:\n",
    "    if (line == '-'):\n",
    "        query_seqs.append(\"---\")\n",
    "    else:\n",
    "        query_seqs.append(query_nt[1][counter:counter+3])\n",
    "        counter += 3 \n",
    "\n",
    "# DNA converted from protein alignment\n",
    "query_seqs = (\"\".join(query_seqs))"
   ]
  },
  {
   "cell_type": "code",
   "execution_count": 291,
   "metadata": {},
   "outputs": [
    {
     "name": "stdout",
     "output_type": "stream",
     "text": [
      "18363\n"
     ]
    }
   ],
   "source": [
    "# Check length\n",
    "print(len(query_seqs))"
   ]
  },
  {
   "cell_type": "code",
   "execution_count": 290,
   "metadata": {},
   "outputs": [],
   "source": [
    "# Initialize empty list for alignment nucleotide sequences\n",
    "nt_seqs = []\n",
    "\n",
    "# Iterate in parallel through amino acids and nucleotides of alignments\n",
    "for aa_seq, nt_seq in zip(mafft_output[1:], query_and_blast[1:]):\n",
    "    # Initialize counter and temporary list\n",
    "    counter = 0\n",
    "    new_nt_seq = []\n",
    "    \n",
    "    for aa in aa_seq[1]: \n",
    "        # Replace dash with three\n",
    "        if (aa == '-'):\n",
    "            new_nt_seq.append(\"---\")\n",
    "        # Append nucleotide sequence guided by protein sequence\n",
    "        else:\n",
    "            new_nt_seq.append(nt_seq[1][counter:counter+3])\n",
    "            counter += 3 \n",
    "        \n",
    "    nt_seqs.append(\"\".join(new_nt_seq))"
   ]
  },
  {
   "cell_type": "code",
   "execution_count": 289,
   "metadata": {},
   "outputs": [],
   "source": [
    "# Check nt length of alignments\n",
    "# for seq in nt_seqs:\n",
    "#     print(len(seq))"
   ]
  },
  {
   "cell_type": "code",
   "execution_count": 287,
   "metadata": {},
   "outputs": [],
   "source": [
    "# Break query into codons\n",
    "n = 3 \n",
    "query_codons = [query_seqs[i:i+n] for i in range(0, len(query_seqs), n)]"
   ]
  },
  {
   "cell_type": "code",
   "execution_count": 286,
   "metadata": {},
   "outputs": [
    {
     "data": {
      "text/plain": [
       "6121"
      ]
     },
     "execution_count": 286,
     "metadata": {},
     "output_type": "execute_result"
    }
   ],
   "source": [
    "# Check length\n",
    "len(query_codons)"
   ]
  },
  {
   "cell_type": "code",
   "execution_count": 228,
   "metadata": {},
   "outputs": [],
   "source": [
    "# Break alignment into codons\n",
    "n = 3\n",
    "all_align_codons = []\n",
    "\n",
    "for seq in nt_seqs:\n",
    "    align_codons = []\n",
    "    for i in range(0, len(seq), n):\n",
    "        align_codons.append(seq[i:i+n])\n",
    "    # Append to nested list for each sequence \n",
    "    all_align_codons.append(align_codons)"
   ]
  },
  {
   "cell_type": "code",
   "execution_count": 283,
   "metadata": {},
   "outputs": [
    {
     "data": {
      "text/plain": [
       "1000"
      ]
     },
     "execution_count": 283,
     "metadata": {},
     "output_type": "execute_result"
    }
   ],
   "source": [
    "# Check length\n",
    "len(all_align_codons)"
   ]
  },
  {
   "cell_type": "code",
   "execution_count": 285,
   "metadata": {},
   "outputs": [],
   "source": [
    "# Check length of alignment sequences\n",
    "# for seq in all_align_codons:\n",
    "#     print(len(seq))"
   ]
  },
  {
   "cell_type": "code",
   "execution_count": 232,
   "metadata": {},
   "outputs": [],
   "source": [
    "codontable = {\n",
    "'ATA':'I', 'ATC':'I', 'ATT':'I', 'ATG':'M',\n",
    "'ACA':'T', 'ACC':'T', 'ACG':'T', 'ACT':'T',\n",
    "'AAC':'N', 'AAT':'N', 'AAA':'K', 'AAG':'K',\n",
    "'AGC':'S', 'AGT':'S', 'AGA':'R', 'AGG':'R',\n",
    "'CTA':'L', 'CTC':'L', 'CTG':'L', 'CTT':'L',\n",
    "'CCA':'P', 'CCC':'P', 'CCG':'P', 'CCT':'P',\n",
    "'CAC':'H', 'CAT':'H', 'CAA':'Q', 'CAG':'Q',\n",
    "'CGA':'R', 'CGC':'R', 'CGG':'R', 'CGT':'R',\n",
    "'GTA':'V', 'GTC':'V', 'GTG':'V', 'GTT':'V',\n",
    "'GCA':'A', 'GCC':'A', 'GCG':'A', 'GCT':'A',\n",
    "'GAC':'D', 'GAT':'D', 'GAA':'E', 'GAG':'E',\n",
    "'GGA':'G', 'GGC':'G', 'GGG':'G', 'GGT':'G',\n",
    "'TCA':'S', 'TCC':'S', 'TCG':'S', 'TCT':'S',\n",
    "'TTC':'F', 'TTT':'F', 'TTA':'L', 'TTG':'L',\n",
    "'TAC':'Y', 'TAT':'Y', 'TAA':'_', 'TAG':'_',\n",
    "'TGC':'C', 'TGT':'C', 'TGA':'_', 'TGG':'W'\n",
    "}"
   ]
  },
  {
   "cell_type": "code",
   "execution_count": 281,
   "metadata": {},
   "outputs": [],
   "source": [
    "# Initialize synonymous and nonsynonymous lists\n",
    "syn_list = []\n",
    "nonsyn_list = []\n",
    "\n",
    "# Move to nested list \n",
    "for idx, val in enumerate(all_align_codons):\n",
    "    # Initialize temporary lists to hold synonymous and nonsynonymous\n",
    "    synonymous = []\n",
    "    nonsynonymous = []\n",
    "    # Iterate through codons in each alignment in parallel with query\n",
    "    for (codon_a, codon_q) in zip(val, query_codons):\n",
    "        # If alignment codon is gap and query codon is not, add zero to both lists because query codon is what we will be plotting\n",
    "        if codon_a == '---' and codon_q != '---':\n",
    "            synonymous.append(0)\n",
    "            nonsynonymous.append(0)\n",
    "            # Next iteration\n",
    "            continue\n",
    "        # If alignment codon is not gap but query codon is, skip\n",
    "        if codon_a != '---' and codon_q == '---':\n",
    "            # Next iteration\n",
    "            continue\n",
    "        # If both are gaps, skip\n",
    "        if codon_a == '---' and codon_q == '---':\n",
    "            # Next iteration\n",
    "            continue\n",
    "        # If codons are the same, append zero to both lists\n",
    "        if (codon_a == codon_q):\n",
    "            synonymous.append(0)\n",
    "            nonsynonymous.append(0)\n",
    "            # Next iteration\n",
    "            continue\n",
    "        # Account for NNN and codons like YTG\n",
    "        if codon_a not in codontable:\n",
    "            synonymous.append(0)\n",
    "            nonsynonymous.append(0)\n",
    "            # Next iteration\n",
    "            continue\n",
    "        # If alignment codon is in the table\n",
    "        if codon_a in codontable:\n",
    "            # Amino acids are not equal, i.e. nonsynonymous mutation\n",
    "            if (codontable[codon_q] != codontable[codon_a]):\n",
    "                # Append 1 to nonsynonymous, 0 to synonymous\n",
    "                nonsynonymous.append(1)\n",
    "                synonymous.append(0)\n",
    "            # Amino acids are equal, i.e. synonymous mutation\n",
    "            if (codontable[codon_q] == codontable[codon_a]):\n",
    "                # Append 1 to synonymous, 0 to nonsynonymous\n",
    "                synonymous.append(1)\n",
    "                nonsynonymous.append(0)\n",
    "    # Append lists to permanent list\n",
    "    syn_list.append(synonymous)\n",
    "    nonsyn_list.append(nonsynonymous)"
   ]
  },
  {
   "cell_type": "code",
   "execution_count": 237,
   "metadata": {},
   "outputs": [
    {
     "data": {
      "text/plain": [
       "1000"
      ]
     },
     "execution_count": 237,
     "metadata": {},
     "output_type": "execute_result"
    }
   ],
   "source": [
    "len(syn_list)"
   ]
  },
  {
   "cell_type": "code",
   "execution_count": 238,
   "metadata": {
    "scrolled": true
   },
   "outputs": [
    {
     "data": {
      "text/plain": [
       "1000"
      ]
     },
     "execution_count": 238,
     "metadata": {},
     "output_type": "execute_result"
    }
   ],
   "source": [
    "len(nonsyn_list)"
   ]
  },
  {
   "cell_type": "code",
   "execution_count": 280,
   "metadata": {},
   "outputs": [],
   "source": [
    "# Check length of each aligned sequence\n",
    "# for seq in syn_list:\n",
    "#     print(len(seq))"
   ]
  },
  {
   "cell_type": "code",
   "execution_count": 240,
   "metadata": {},
   "outputs": [],
   "source": [
    "# Sum the nested lists in each list\n",
    "N_sum = [sum(x) for x in zip(*nonsyn_list)]\n",
    "S_sum = [sum(x) for x in zip(*syn_list)]"
   ]
  },
  {
   "cell_type": "code",
   "execution_count": 241,
   "metadata": {
    "scrolled": true
   },
   "outputs": [
    {
     "data": {
      "text/plain": [
       "3430"
      ]
     },
     "execution_count": 241,
     "metadata": {},
     "output_type": "execute_result"
    }
   ],
   "source": [
    "# Check length\n",
    "len(N_sum)"
   ]
  },
  {
   "cell_type": "code",
   "execution_count": 279,
   "metadata": {},
   "outputs": [],
   "source": [
    "# Calculate difference between dN and dS\n",
    "difference = [x-y for x,y in zip(N_sum, S_sum)]"
   ]
  },
  {
   "cell_type": "code",
   "execution_count": 278,
   "metadata": {},
   "outputs": [
    {
     "data": {
      "text/plain": [
       "223.0623054910906"
      ]
     },
     "execution_count": 278,
     "metadata": {},
     "output_type": "execute_result"
    }
   ],
   "source": [
    "from scipy import stats\n",
    "# Calculate standard deviation of differences\n",
    "std = stats.tstd(difference)\n",
    "std"
   ]
  },
  {
   "cell_type": "code",
   "execution_count": 277,
   "metadata": {},
   "outputs": [
    {
     "data": {
      "text/html": [
       "<div>\n",
       "<style scoped>\n",
       "    .dataframe tbody tr th:only-of-type {\n",
       "        vertical-align: middle;\n",
       "    }\n",
       "\n",
       "    .dataframe tbody tr th {\n",
       "        vertical-align: top;\n",
       "    }\n",
       "\n",
       "    .dataframe thead th {\n",
       "        text-align: right;\n",
       "    }\n",
       "</style>\n",
       "<table border=\"1\" class=\"dataframe\">\n",
       "  <thead>\n",
       "    <tr style=\"text-align: right;\">\n",
       "      <th></th>\n",
       "      <th>difference</th>\n",
       "    </tr>\n",
       "  </thead>\n",
       "  <tbody>\n",
       "    <tr>\n",
       "      <th>0</th>\n",
       "      <td>870</td>\n",
       "    </tr>\n",
       "    <tr>\n",
       "      <th>1</th>\n",
       "      <td>40</td>\n",
       "    </tr>\n",
       "    <tr>\n",
       "      <th>2</th>\n",
       "      <td>853</td>\n",
       "    </tr>\n",
       "    <tr>\n",
       "      <th>3</th>\n",
       "      <td>419</td>\n",
       "    </tr>\n",
       "    <tr>\n",
       "      <th>4</th>\n",
       "      <td>786</td>\n",
       "    </tr>\n",
       "    <tr>\n",
       "      <th>...</th>\n",
       "      <td>...</td>\n",
       "    </tr>\n",
       "    <tr>\n",
       "      <th>3425</th>\n",
       "      <td>709</td>\n",
       "    </tr>\n",
       "    <tr>\n",
       "      <th>3426</th>\n",
       "      <td>709</td>\n",
       "    </tr>\n",
       "    <tr>\n",
       "      <th>3427</th>\n",
       "      <td>604</td>\n",
       "    </tr>\n",
       "    <tr>\n",
       "      <th>3428</th>\n",
       "      <td>587</td>\n",
       "    </tr>\n",
       "    <tr>\n",
       "      <th>3429</th>\n",
       "      <td>619</td>\n",
       "    </tr>\n",
       "  </tbody>\n",
       "</table>\n",
       "<p>3430 rows × 1 columns</p>\n",
       "</div>"
      ],
      "text/plain": [
       "      difference\n",
       "0            870\n",
       "1             40\n",
       "2            853\n",
       "3            419\n",
       "4            786\n",
       "...          ...\n",
       "3425         709\n",
       "3426         709\n",
       "3427         604\n",
       "3428         587\n",
       "3429         619\n",
       "\n",
       "[3430 rows x 1 columns]"
      ]
     },
     "execution_count": 277,
     "metadata": {},
     "output_type": "execute_result"
    }
   ],
   "source": [
    "# Convert list of differences to dataframe\n",
    "stats = pd.DataFrame(difference, columns = ['difference'])\n",
    "stats"
   ]
  },
  {
   "cell_type": "code",
   "execution_count": 276,
   "metadata": {
    "scrolled": true
   },
   "outputs": [
    {
     "data": {
      "text/html": [
       "<div>\n",
       "<style scoped>\n",
       "    .dataframe tbody tr th:only-of-type {\n",
       "        vertical-align: middle;\n",
       "    }\n",
       "\n",
       "    .dataframe tbody tr th {\n",
       "        vertical-align: top;\n",
       "    }\n",
       "\n",
       "    .dataframe thead th {\n",
       "        text-align: right;\n",
       "    }\n",
       "</style>\n",
       "<table border=\"1\" class=\"dataframe\">\n",
       "  <thead>\n",
       "    <tr style=\"text-align: right;\">\n",
       "      <th></th>\n",
       "      <th>difference</th>\n",
       "      <th>zscore</th>\n",
       "    </tr>\n",
       "  </thead>\n",
       "  <tbody>\n",
       "    <tr>\n",
       "      <th>0</th>\n",
       "      <td>870</td>\n",
       "      <td>-3.900256</td>\n",
       "    </tr>\n",
       "    <tr>\n",
       "      <th>1</th>\n",
       "      <td>40</td>\n",
       "      <td>-0.179322</td>\n",
       "    </tr>\n",
       "    <tr>\n",
       "      <th>2</th>\n",
       "      <td>853</td>\n",
       "      <td>-3.824044</td>\n",
       "    </tr>\n",
       "    <tr>\n",
       "      <th>3</th>\n",
       "      <td>419</td>\n",
       "      <td>-1.878399</td>\n",
       "    </tr>\n",
       "    <tr>\n",
       "      <th>4</th>\n",
       "      <td>786</td>\n",
       "      <td>-3.523679</td>\n",
       "    </tr>\n",
       "    <tr>\n",
       "      <th>...</th>\n",
       "      <td>...</td>\n",
       "      <td>...</td>\n",
       "    </tr>\n",
       "    <tr>\n",
       "      <th>3425</th>\n",
       "      <td>709</td>\n",
       "      <td>-3.178484</td>\n",
       "    </tr>\n",
       "    <tr>\n",
       "      <th>3426</th>\n",
       "      <td>709</td>\n",
       "      <td>-3.178484</td>\n",
       "    </tr>\n",
       "    <tr>\n",
       "      <th>3427</th>\n",
       "      <td>604</td>\n",
       "      <td>-2.707764</td>\n",
       "    </tr>\n",
       "    <tr>\n",
       "      <th>3428</th>\n",
       "      <td>587</td>\n",
       "      <td>-2.631552</td>\n",
       "    </tr>\n",
       "    <tr>\n",
       "      <th>3429</th>\n",
       "      <td>619</td>\n",
       "      <td>-2.775009</td>\n",
       "    </tr>\n",
       "  </tbody>\n",
       "</table>\n",
       "<p>3430 rows × 2 columns</p>\n",
       "</div>"
      ],
      "text/plain": [
       "      difference    zscore\n",
       "0            870 -3.900256\n",
       "1             40 -0.179322\n",
       "2            853 -3.824044\n",
       "3            419 -1.878399\n",
       "4            786 -3.523679\n",
       "...          ...       ...\n",
       "3425         709 -3.178484\n",
       "3426         709 -3.178484\n",
       "3427         604 -2.707764\n",
       "3428         587 -2.631552\n",
       "3429         619 -2.775009\n",
       "\n",
       "[3430 rows x 2 columns]"
      ]
     },
     "execution_count": 276,
     "metadata": {},
     "output_type": "execute_result"
    }
   ],
   "source": [
    "# Calculate Z-score\n",
    "stats['zscore'] = ((0 - stats['difference'])/std)\n",
    "stats"
   ]
  },
  {
   "cell_type": "code",
   "execution_count": 246,
   "metadata": {},
   "outputs": [
    {
     "data": {
      "text/plain": [
       "3430"
      ]
     },
     "execution_count": 246,
     "metadata": {},
     "output_type": "execute_result"
    }
   ],
   "source": [
    "# Check length\n",
    "len(difference)"
   ]
  },
  {
   "cell_type": "code",
   "execution_count": 247,
   "metadata": {},
   "outputs": [],
   "source": [
    "# Divide the lists\n",
    "# If y is zero, make value zero to avoid error\n",
    "dN_dS = [x/y if y else 0 for x,y in zip(N_sum, S_sum)]"
   ]
  },
  {
   "cell_type": "code",
   "execution_count": 249,
   "metadata": {},
   "outputs": [],
   "source": [
    "import numpy as np\n",
    "# Take log2 of ratio, if x is zero make value zero to avoid error\n",
    "log_dN_dS = [np.log2(x) if x else 0 for x in dN_dS]"
   ]
  },
  {
   "cell_type": "code",
   "execution_count": 1,
   "metadata": {},
   "outputs": [],
   "source": [
    "#log_dN_dS"
   ]
  },
  {
   "cell_type": "code",
   "execution_count": 251,
   "metadata": {},
   "outputs": [
    {
     "data": {
      "text/plain": [
       "3430"
      ]
     },
     "execution_count": 251,
     "metadata": {},
     "output_type": "execute_result"
    }
   ],
   "source": [
    "# Check length, should be same as number of codons\n",
    "len(log_dN_dS)"
   ]
  },
  {
   "cell_type": "code",
   "execution_count": 275,
   "metadata": {
    "scrolled": true
   },
   "outputs": [],
   "source": [
    "# Convert list to array\n",
    "log_dN_dS_arr = np.array(log_dN_dS)"
   ]
  },
  {
   "cell_type": "code",
   "execution_count": 253,
   "metadata": {},
   "outputs": [
    {
     "data": {
      "text/html": [
       "<div>\n",
       "<style scoped>\n",
       "    .dataframe tbody tr th:only-of-type {\n",
       "        vertical-align: middle;\n",
       "    }\n",
       "\n",
       "    .dataframe tbody tr th {\n",
       "        vertical-align: top;\n",
       "    }\n",
       "\n",
       "    .dataframe thead th {\n",
       "        text-align: right;\n",
       "    }\n",
       "</style>\n",
       "<table border=\"1\" class=\"dataframe\">\n",
       "  <thead>\n",
       "    <tr style=\"text-align: right;\">\n",
       "      <th></th>\n",
       "      <th>0</th>\n",
       "    </tr>\n",
       "  </thead>\n",
       "  <tbody>\n",
       "    <tr>\n",
       "      <th>0</th>\n",
       "      <td>0.000000</td>\n",
       "    </tr>\n",
       "    <tr>\n",
       "      <th>1</th>\n",
       "      <td>0.144390</td>\n",
       "    </tr>\n",
       "    <tr>\n",
       "      <th>2</th>\n",
       "      <td>0.000000</td>\n",
       "    </tr>\n",
       "    <tr>\n",
       "      <th>3</th>\n",
       "      <td>1.685685</td>\n",
       "    </tr>\n",
       "    <tr>\n",
       "      <th>4</th>\n",
       "      <td>7.625709</td>\n",
       "    </tr>\n",
       "    <tr>\n",
       "      <th>...</th>\n",
       "      <td>...</td>\n",
       "    </tr>\n",
       "    <tr>\n",
       "      <th>3425</th>\n",
       "      <td>8.473706</td>\n",
       "    </tr>\n",
       "    <tr>\n",
       "      <th>3426</th>\n",
       "      <td>8.473706</td>\n",
       "    </tr>\n",
       "    <tr>\n",
       "      <th>3427</th>\n",
       "      <td>2.709574</td>\n",
       "    </tr>\n",
       "    <tr>\n",
       "      <th>3428</th>\n",
       "      <td>2.589067</td>\n",
       "    </tr>\n",
       "    <tr>\n",
       "      <th>3429</th>\n",
       "      <td>3.111361</td>\n",
       "    </tr>\n",
       "  </tbody>\n",
       "</table>\n",
       "<p>3430 rows × 1 columns</p>\n",
       "</div>"
      ],
      "text/plain": [
       "             0\n",
       "0     0.000000\n",
       "1     0.144390\n",
       "2     0.000000\n",
       "3     1.685685\n",
       "4     7.625709\n",
       "...        ...\n",
       "3425  8.473706\n",
       "3426  8.473706\n",
       "3427  2.709574\n",
       "3428  2.589067\n",
       "3429  3.111361\n",
       "\n",
       "[3430 rows x 1 columns]"
      ]
     },
     "execution_count": 253,
     "metadata": {},
     "output_type": "execute_result"
    }
   ],
   "source": [
    "import pandas as pd\n",
    "# Convert array to dataframe\n",
    "df = pd.DataFrame(log_dN_dS_arr)\n",
    "df"
   ]
  },
  {
   "cell_type": "code",
   "execution_count": 254,
   "metadata": {
    "scrolled": true
   },
   "outputs": [],
   "source": [
    "# rename column for plotting\n",
    "df = df.rename(columns={0:'log2ratio'})"
   ]
  },
  {
   "cell_type": "code",
   "execution_count": 274,
   "metadata": {
    "scrolled": true
   },
   "outputs": [],
   "source": [
    "# Convert to float (don't know if this was really necessary, I just did it)\n",
    "df['log2ratio'] = df['log2ratio'].astype(float)"
   ]
  },
  {
   "cell_type": "code",
   "execution_count": 273,
   "metadata": {
    "scrolled": true
   },
   "outputs": [],
   "source": [
    "# Merge statistics dataframe and log2 ratio dataframe\n",
    "df2 = pd.merge(df, stats, right_index=True, left_index=True)"
   ]
  },
  {
   "cell_type": "code",
   "execution_count": 272,
   "metadata": {},
   "outputs": [
    {
     "data": {
      "text/plain": [
       "3078"
      ]
     },
     "execution_count": 272,
     "metadata": {},
     "output_type": "execute_result"
    }
   ],
   "source": [
    "# Number of significant nonsynonymous mutations\n",
    "len(df2[(df2['zscore'] <= -1.96)])"
   ]
  },
  {
   "cell_type": "code",
   "execution_count": 271,
   "metadata": {},
   "outputs": [],
   "source": [
    "# Assign index to column for plotting codon position\n",
    "df2['x1'] = df2.index"
   ]
  },
  {
   "cell_type": "code",
   "execution_count": 260,
   "metadata": {
    "scrolled": true
   },
   "outputs": [
    {
     "data": {
      "text/html": [
       "<div>\n",
       "<style scoped>\n",
       "    .dataframe tbody tr th:only-of-type {\n",
       "        vertical-align: middle;\n",
       "    }\n",
       "\n",
       "    .dataframe tbody tr th {\n",
       "        vertical-align: top;\n",
       "    }\n",
       "\n",
       "    .dataframe thead th {\n",
       "        text-align: right;\n",
       "    }\n",
       "</style>\n",
       "<table border=\"1\" class=\"dataframe\">\n",
       "  <thead>\n",
       "    <tr style=\"text-align: right;\">\n",
       "      <th></th>\n",
       "      <th>log2ratio</th>\n",
       "      <th>difference</th>\n",
       "      <th>zscore</th>\n",
       "      <th>x1</th>\n",
       "    </tr>\n",
       "  </thead>\n",
       "  <tbody>\n",
       "    <tr>\n",
       "      <th>0</th>\n",
       "      <td>0.000000</td>\n",
       "      <td>870</td>\n",
       "      <td>-3.900256</td>\n",
       "      <td>0</td>\n",
       "    </tr>\n",
       "    <tr>\n",
       "      <th>1</th>\n",
       "      <td>0.144390</td>\n",
       "      <td>40</td>\n",
       "      <td>-0.179322</td>\n",
       "      <td>1</td>\n",
       "    </tr>\n",
       "    <tr>\n",
       "      <th>2</th>\n",
       "      <td>0.000000</td>\n",
       "      <td>853</td>\n",
       "      <td>-3.824044</td>\n",
       "      <td>2</td>\n",
       "    </tr>\n",
       "    <tr>\n",
       "      <th>3</th>\n",
       "      <td>1.685685</td>\n",
       "      <td>419</td>\n",
       "      <td>-1.878399</td>\n",
       "      <td>3</td>\n",
       "    </tr>\n",
       "    <tr>\n",
       "      <th>4</th>\n",
       "      <td>7.625709</td>\n",
       "      <td>786</td>\n",
       "      <td>-3.523679</td>\n",
       "      <td>4</td>\n",
       "    </tr>\n",
       "    <tr>\n",
       "      <th>...</th>\n",
       "      <td>...</td>\n",
       "      <td>...</td>\n",
       "      <td>...</td>\n",
       "      <td>...</td>\n",
       "    </tr>\n",
       "    <tr>\n",
       "      <th>3425</th>\n",
       "      <td>8.473706</td>\n",
       "      <td>709</td>\n",
       "      <td>-3.178484</td>\n",
       "      <td>3425</td>\n",
       "    </tr>\n",
       "    <tr>\n",
       "      <th>3426</th>\n",
       "      <td>8.473706</td>\n",
       "      <td>709</td>\n",
       "      <td>-3.178484</td>\n",
       "      <td>3426</td>\n",
       "    </tr>\n",
       "    <tr>\n",
       "      <th>3427</th>\n",
       "      <td>2.709574</td>\n",
       "      <td>604</td>\n",
       "      <td>-2.707764</td>\n",
       "      <td>3427</td>\n",
       "    </tr>\n",
       "    <tr>\n",
       "      <th>3428</th>\n",
       "      <td>2.589067</td>\n",
       "      <td>587</td>\n",
       "      <td>-2.631552</td>\n",
       "      <td>3428</td>\n",
       "    </tr>\n",
       "    <tr>\n",
       "      <th>3429</th>\n",
       "      <td>3.111361</td>\n",
       "      <td>619</td>\n",
       "      <td>-2.775009</td>\n",
       "      <td>3429</td>\n",
       "    </tr>\n",
       "  </tbody>\n",
       "</table>\n",
       "<p>3430 rows × 4 columns</p>\n",
       "</div>"
      ],
      "text/plain": [
       "      log2ratio  difference    zscore    x1\n",
       "0      0.000000         870 -3.900256     0\n",
       "1      0.144390          40 -0.179322     1\n",
       "2      0.000000         853 -3.824044     2\n",
       "3      1.685685         419 -1.878399     3\n",
       "4      7.625709         786 -3.523679     4\n",
       "...         ...         ...       ...   ...\n",
       "3425   8.473706         709 -3.178484  3425\n",
       "3426   8.473706         709 -3.178484  3426\n",
       "3427   2.709574         604 -2.707764  3427\n",
       "3428   2.589067         587 -2.631552  3428\n",
       "3429   3.111361         619 -2.775009  3429\n",
       "\n",
       "[3430 rows x 4 columns]"
      ]
     },
     "execution_count": 260,
     "metadata": {},
     "output_type": "execute_result"
    }
   ],
   "source": [
    "df2"
   ]
  },
  {
   "cell_type": "code",
   "execution_count": 270,
   "metadata": {},
   "outputs": [],
   "source": [
    "# remove zeroes from dataframe so they are not plotted\n",
    "df2.replace(0, np.nan, inplace=True)"
   ]
  },
  {
   "cell_type": "code",
   "execution_count": 269,
   "metadata": {
    "scrolled": true
   },
   "outputs": [
    {
     "data": {
      "image/png": "[encoded data removed]",
      "text/plain": [
       "<Figure size 936x576 with 1 Axes>"
      ]
     },
     "metadata": {
      "needs_background": "light"
     },
     "output_type": "display_data"
    }
   ],
   "source": [
    "import matplotlib.pyplot as plt\n",
    "import matplotlib.patches as mpatches\n",
    "\n",
    "colors = np.where(((df2['zscore']<=(-1.96)) & (df2['log2ratio'] > 0)), 'r','b')\n",
    "red_label = mpatches.Patch(color='red',label='Significant Positive Selection')\n",
    "\n",
    "df2.plot(kind='scatter', x='x1', y='log2ratio', c=colors)\n",
    "fig = plt.gcf()\n",
    "fig.set_size_inches(13,8)\n",
    "plt.title('Synonymous and nonsynonymous mutations')\n",
    "plt.ylabel('log2(dN/dS)')\n",
    "plt.xlabel('codon position in query')\n",
    "plt.tight_layout\n",
    "plt.legend(handles=[red_label])\n",
    "\n",
    "plt.show()"
   ]
  },
  {
   "cell_type": "markdown",
   "metadata": {},
   "source": [
    "- If dN/dS > 1, log2 > 0\n",
    "- If dN/dS < 1, log2 < 0 \n",
    "- Graph shows more nonsynonymous than synonymous changes, and most nonsynonymous are significant (red = significant)"
   ]
  },
  {
   "cell_type": "code",
   "execution_count": null,
   "metadata": {},
   "outputs": [],
   "source": []
  }
 ],
 "metadata": {
  "kernelspec": {
   "display_name": "Python 3",
   "language": "python",
   "name": "python3"
  },
  "language_info": {
   "codemirror_mode": {
    "name": "ipython",
    "version": 3
   },
   "file_extension": ".py",
   "mimetype": "text/x-python",
   "name": "python",
   "nbconvert_exporter": "python",
   "pygments_lexer": "ipython3",
   "version": "3.6.10"
  }
 },
 "nbformat": 4,
 "nbformat_minor": 4
}
